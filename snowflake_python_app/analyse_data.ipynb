{
 "cells": [
  {
   "cell_type": "code",
   "execution_count": null,
   "metadata": {},
   "outputs": [],
   "source": [
    "import pandas as pd\n",
    "import numpy as np\n",
    "import databricks.koalas as ks\n",
    "from pyspark.sql import SparkSession\n",
    "from pyspark.sql.functions import col, pandas_udf, PandasUDFType\n",
    "from pyspark.sql.types import StructType, StructField, StringType, IntegerType, FloatType, DateType, TimestampType\n",
    "from pyspark.sql.functions import pandas_udf, PandasUDFType\n",
    "from pyspark.sql.functions import udf\n"
   ]
  },
  {
   "cell_type": "code",
   "execution_count": null,
   "metadata": {},
   "outputs": [],
   "source": [
    "def connect_databricks(account, user, password, warehouse, database, schema):\n",
    "    \"\"\"\n",
    "    Connect to Databricks account\n",
    "    \"\"\"\n",
    "    import databricks.koalas as ks\n",
    "    ctx = ks.connect(\n",
    "        user=user,\n",
    "        password=password,\n",
    "        account=account,\n",
    "        warehouse=warehouse,\n",
    "        database=database,\n",
    "        schema=schema\n",
    "    )\n",
    "    return ctx"
   ]
  },
  {
   "cell_type": "code",
   "execution_count": null,
   "metadata": {},
   "outputs": [],
   "source": [
    "def process_avro_ingestion_files(file_path):\n",
    "    \"\"\"\n",
    "    Process Avro ingestion files\n",
    "    \"\"\"\n",
    "    spark = SparkSession.builder.getOrCreate()\n",
    "    df = spark.read.format(\"avro\").load(file_path)\n",
    "    return df\n",
    "\n",
    "def manipulate_columns(df):\n",
    "    \"\"\"\n",
    "    Manipulate columns\n",
    "    \"\"\"\n",
    "    df = df.withColumn(\"ORDER_DATE\", col(\"ORDER_DATE\").cast(TimestampType()))\n",
    "    df = df.withColumn(\"SHIP_DATE\", col(\"SHIP_DATE\").cast(TimestampType()))\n",
    "    df = df.withColumn(\"MONTH\", col(\"MONTH\").cast(IntegerType()))\n",
    "    df = df.withColumn(\"YEAR\", col(\"YEAR\").cast(IntegerType()))\n",
    "    df = df.withColumn(\"SALES\", col(\"SALES\").cast(FloatType()))\n",
    "    df = df.withColumn(\"PROFIT\", col(\"PROFIT\").cast(FloatType()))\n",
    "    df = df.withColumn(\"PRODUCT_BASE_MARGIN\", col(\"PRODUCT_BASE_MARGIN\").cast(FloatType()))\n",
    "    return df\n",
    "\n",
    "\n"
   ]
  }
 ],
 "metadata": {
  "language_info": {
   "name": "python"
  },
  "orig_nbformat": 4
 },
 "nbformat": 4,
 "nbformat_minor": 2
}
